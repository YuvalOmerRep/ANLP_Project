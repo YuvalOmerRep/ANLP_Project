{
  "cells": [
    {
      "cell_type": "code",
      "execution_count": null,
      "metadata": {
        "id": "BWwlR8DaisTH"
      },
      "outputs": [],
      "source": [
        "!pip install datasets\n",
        "import numpy as np\n",
        "from datasets import load_dataset\n",
        "data = load_dataset(\"riddle_sense\")"
      ]
    },
    {
      "cell_type": "markdown",
      "metadata": {
        "id": "3MBxaGr51ckH"
      },
      "source": [
        "**Task 1:**\n",
        "Create a new dataset where each possible answer appears only once."
      ]
    },
    {
      "cell_type": "code",
      "execution_count": null,
      "metadata": {
        "id": "1ipwpPEP1QoQ"
      },
      "outputs": [],
      "source": [
        "listOfIndicesToSelect = list()\n",
        "listOfIndicesToRemove = list()\n",
        "allWordSet = set()\n",
        "for index,sample in enumerate(data[\"train\"]):\n",
        "  shouldAddFlag = 1\n",
        "  for word in sample[\"choices\"][\"text\"]:\n",
        "    if word in allWordSet:\n",
        "      shouldAddFlag = 0\n",
        "      break\n",
        "    else:\n",
        "      allWordSet.add(word)\n",
        "  if shouldAddFlag:\n",
        "    listOfIndicesToSelect.append(index)\n",
        "  else:\n",
        "    listOfIndicesToRemove.append(index)\n",
        "\n",
        "newDataset = data[\"train\"].select(listOfIndicesToSelect)\n"
      ]
    },
    {
      "cell_type": "code",
      "execution_count": null,
      "metadata": {
        "colab": {
          "base_uri": "https://localhost:8080/"
        },
        "id": "egsz17vW880b",
        "outputId": "12bb62a4-0b25-4bf5-d3ca-b5eed72a606c"
      },
      "outputs": [
        {
          "data": {
            "text/plain": [
              "Dataset({\n",
              "    features: ['answerKey', 'question', 'choices'],\n",
              "    num_rows: 657\n",
              "})"
            ]
          },
          "execution_count": 3,
          "metadata": {},
          "output_type": "execute_result"
        }
      ],
      "source": [
        "newDataset"
      ]
    },
    {
      "cell_type": "code",
      "execution_count": null,
      "metadata": {
        "id": "IoHqOYwG7uYf"
      },
      "outputs": [],
      "source": [
        "listOfIndicesToSelect"
      ]
    },
    {
      "cell_type": "code",
      "execution_count": null,
      "metadata": {
        "id": "qZSIsQjfHSw4"
      },
      "outputs": [],
      "source": [
        "# Test that each possible answer appears only once. Result should be nothing printed\n",
        "\n",
        "mapDict = {\"A\": 0, \"B\": 1, \"C\":2, \"D\":3, \"E\":4}\n",
        "result = []\n",
        "for sample in newDataset:\n",
        "  result.append(sample[\"choices\"][\"text\"][mapDict[sample[\"answerKey\"]]])\n",
        "\n",
        "result = np.array(result)\n",
        "a = np.unique(result, return_counts=True)\n",
        "\n",
        "for index, word in enumerate(a[0]):\n",
        "  if a[1][index] != 1:\n",
        "    print(f\"word: {word}, times: {a[1][index]}\")\n"
      ]
    },
    {
      "cell_type": "code",
      "execution_count": null,
      "metadata": {
        "id": "bnCtQwyL2hyr"
      },
      "outputs": [],
      "source": [
        "# Test that each possible answer appears only once. Result should be all 1's\n",
        "\n",
        "check = list()\n",
        "for sample in newDataset:\n",
        "  for word in sample[\"choices\"]:\n",
        "    check.append(word)\n",
        "\n",
        "check = np.array(check)\n",
        "a = np.unique(result, return_counts=True)\n",
        "print(a[1])"
      ]
    },
    {
      "cell_type": "markdown",
      "metadata": {
        "id": "u42xpaOz3E4K"
      },
      "source": [
        "Task 2: Create the following statistic about each possible answer:\n",
        "Number of times that the word/phrase appeard in a correct answer out of the number of times the word/phrase appeared as a possible answer\n"
      ]
    },
    {
      "cell_type": "code",
      "execution_count": null,
      "metadata": {
        "id": "2YnT2j6fHwDO"
      },
      "outputs": [],
      "source": [
        "mapDict = {\"A\": 0, \"B\": 1, \"C\":2, \"D\":3, \"E\":4}\n",
        "result = []\n",
        "for sample in data[\"train\"]:\n",
        "  result.append(sample[\"choices\"][\"text\"][mapDict[sample[\"answerKey\"]]])\n",
        "\n",
        "result = np.array(result)\n",
        "a = np.unique(result, return_counts=True)\n",
        "\n",
        "# j = 0\n",
        "# for index, word in enumerate(a[0]):\n",
        "#   if a[1][index] != 1:\n",
        "#     print(f\"word: {word}, times: {a[1][index]}\")\n",
        "    # j+=1\n",
        "# print(j)\n",
        "\n",
        "probs = {}\n",
        "for index,word in enumerate(a[0]):\n",
        "  probs[word] = [a[1][index], 0]\n",
        "\n",
        "# j = 0\n",
        "for sample in data[\"train\"]:\n",
        "  for word in sample[\"choices\"][\"text\"]:\n",
        "    if word not in probs:\n",
        "      probs[word] = [0, 1]\n",
        "      # j += 1\n",
        "    else:\n",
        "      probs[word][1] += 1\n",
        "# print(j)\n",
        "\n",
        "always1 = dict()\n",
        "always0 = dict()\n",
        "others = dict()\n",
        "\n",
        "realProbsDict = {}\n",
        "for word in probs:\n",
        "  prob = probs[word][0]/probs[word][1]\n",
        "  realProbsDict[word] = prob\n",
        "  if prob == 1:\n",
        "    always1[word] = 1\n",
        "  elif prob == 0:\n",
        "    always0[word] = 0\n",
        "  else:\n",
        "    others[word] = prob\n"
      ]
    },
    {
      "cell_type": "code",
      "execution_count": null,
      "metadata": {
        "colab": {
          "base_uri": "https://localhost:8080/"
        },
        "id": "HU8B7e4lBaJp",
        "outputId": "2d097613-10a8-49ca-ead6-3e4d30558324"
      },
      "outputs": [
        {
          "data": {
            "text/plain": [
              "10772"
            ]
          },
          "execution_count": 10,
          "metadata": {},
          "output_type": "execute_result"
        }
      ],
      "source": [
        "x = len(always1) + len(always0) + len(others)\n",
        "x"
      ]
    },
    {
      "cell_type": "code",
      "execution_count": null,
      "metadata": {
        "colab": {
          "base_uri": "https://localhost:8080/"
        },
        "id": "LDI4a7JvBQRX",
        "outputId": "c5005364-32ff-4b8f-eb24-c857d8493804"
      },
      "outputs": [
        {
          "data": {
            "text/plain": [
              "0.2702376531748979"
            ]
          },
          "execution_count": 11,
          "metadata": {},
          "output_type": "execute_result"
        }
      ],
      "source": [
        "len(always1)/x\n"
      ]
    },
    {
      "cell_type": "code",
      "execution_count": null,
      "metadata": {
        "colab": {
          "base_uri": "https://localhost:8080/"
        },
        "id": "cb-w4HutBV_H",
        "outputId": "afb145c0-f45c-46e7-cb0c-6eacb0c40263"
      },
      "outputs": [
        {
          "data": {
            "text/plain": [
              "0.7078536947642035"
            ]
          },
          "execution_count": 12,
          "metadata": {},
          "output_type": "execute_result"
        }
      ],
      "source": [
        "len(always0)/x"
      ]
    },
    {
      "cell_type": "code",
      "execution_count": null,
      "metadata": {
        "colab": {
          "base_uri": "https://localhost:8080/"
        },
        "id": "nurATejjBXGw",
        "outputId": "7c926591-3890-4ddc-ee9b-1a29941fb231"
      },
      "outputs": [
        {
          "data": {
            "text/plain": [
              "0.021908652060898627"
            ]
          },
          "execution_count": 13,
          "metadata": {},
          "output_type": "execute_result"
        }
      ],
      "source": [
        "len(others)/x"
      ]
    },
    {
      "cell_type": "markdown",
      "metadata": {
        "id": "aTYGAek64LAC"
      },
      "source": [
        "Task 3: Create a dataset that doesn't include simillar words (such as hole and holes) in as answers to different riddles."
      ]
    }
  ],
  "metadata": {
    "colab": {
      "provenance": []
    },
    "kernelspec": {
      "display_name": "Python 3",
      "name": "python3"
    },
    "language_info": {
      "name": "python"
    }
  },
  "nbformat": 4,
  "nbformat_minor": 0
}